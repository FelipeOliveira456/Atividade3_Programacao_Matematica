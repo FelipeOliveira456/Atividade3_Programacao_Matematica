{
  "nbformat": 4,
  "nbformat_minor": 0,
  "metadata": {
    "colab": {
      "provenance": []
    },
    "kernelspec": {
      "name": "python3",
      "display_name": "Python 3"
    },
    "language_info": {
      "name": "python"
    }
  },
  "cells": [
    {
      "cell_type": "markdown",
      "source": [
        "# GCC118 - Programação Matemática\n",
        "## Universidade Federal de Lavras\n",
        "### Problema 2\n",
        "#### Aluno: Eduardo Cesar Cauduro Coelho\n",
        "#### Matrícula: 202310175\n",
        "#### Aluno: Felipe Geraldo de Oliveira\n",
        "#### Matrícula: 202310174"
      ],
      "metadata": {
        "id": "9GxPwFVBgqR2"
      }
    },
    {
      "cell_type": "markdown",
      "source": [
        "Seu código deve ser testado na seguinte instância: [link](https://drive.google.com/file/d/12CeZEow-6vVgJFgzXMo0gbjV5hLCM6Zi/view?usp=sharing). O README se encontra em: [link](https://drive.google.com/file/d/1LBTdkDoTQRxUJsKLI4Z38-Uc8oUPCZQ0/view?usp=sharing)."
      ],
      "metadata": {
        "id": "jyYbV5Wng03k"
      }
    },
    {
      "cell_type": "markdown",
      "source": [
        "##Modelagem do problema da mochila:\n",
        "\n",
        "###função objetivo:\n",
        "* $max \\displaystyle\\sum_{i=1}^n v_ix_i$\n",
        "\n",
        "###sujeita a:\n",
        "* $\\sum_{i=1}^n p_ix_i ≤ c$\n",
        "* $x_i \\in \\{0, 1\\}, ∀i $\n",
        "\n",
        "###legenda:\n",
        "* $x_i$: váriavel binária do item $i$\n",
        "* $p_i$: peso do item $i$\n",
        "* $v_i$: valor do item $i$\n",
        "* $c$: capacidade da mochila\n",
        "\n"
      ],
      "metadata": {
        "id": "j_OKcvJnOwl_"
      }
    },
    {
      "cell_type": "markdown",
      "source": [
        "## Criaremos a classe KnapsackModel, que resolve um problema da mochila binária:\n",
        "\n",
        "### O código está comentado para facilitar o entendimento:"
      ],
      "metadata": {
        "id": "vCwJevPL3SYV"
      }
    },
    {
      "cell_type": "code",
      "execution_count": 1,
      "metadata": {
        "id": "C8uA2IgpgmpD"
      },
      "outputs": [],
      "source": [
        "import heapq\n",
        "\n",
        "class KnapsackModel():\n",
        "\n",
        "  def __init__ (self, valores, pesos, capacidade):\n",
        "    self.__capacidade = capacidade\n",
        "    self.__objetivo = 0.0\n",
        "    self.__modelo = {}\n",
        "    for i in range(len(pesos)):\n",
        "      self.__modelo[f'x{i+1}'] = {'Valor': valores[i], 'Custo': pesos[i]}\n",
        "    self.__nos_explorados = 0\n",
        "\n",
        "    self.__variaveis_ordenadas = {}\n",
        "\n",
        "    for variavel in self.__modelo:\n",
        "      self.__variaveis_ordenadas[variavel] = self.__modelo[variavel]['Valor'] / self.__modelo[variavel]['Custo']\n",
        "\n",
        "    self.__variaveis_ordenadas = dict(sorted(self.__variaveis_ordenadas.items(), key=lambda item: item[1], reverse=True)) # ordena as variaveis com base no seu \"custo-beneficio\", isto é, seu valor dividido pelo seu peso\n",
        "\n",
        "  def solve(self):\n",
        "    noh_inicial =  KnapsackProblemNode(False, self.__modelo, self.__capacidade, self.__objetivo, self.__variaveis_ordenadas)\n",
        "    noh_inicial.setLimites()\n",
        "\n",
        "    heap = [noh_inicial]\n",
        "    heapq.heapify(heap) #o heap ordena com base no maior limitante superior, por causa do método __lt__ da classe KnapsackProblemNode\n",
        "\n",
        "    while heap:\n",
        "\n",
        "      noh = heapq.heappop(heap)\n",
        "\n",
        "      limite_sup = noh.getLimiteSuperior()\n",
        "      limite_inf = noh.getLimiteInferior()\n",
        "\n",
        "      self.__nos_explorados += 1\n",
        "\n",
        "      if limite_sup == False: #corte por infactibilidade\n",
        "        continue\n",
        "\n",
        "      var_frac = noh.getVariavelFrac()\n",
        "\n",
        "      if var_frac is None:  #corte por otimalidade.\n",
        "        noh.setGapOtimalidade()\n",
        "        self.__nos_explorados += len(heap)\n",
        "        return noh #a primeira solução encontrada é a ótima, pois estamos utilizando uma max-heap. os outros nós na heap tem limite superior menor ou igual\n",
        "\n",
        "      nohEsq = KnapsackProblemNode(False, noh.getModelo(), noh.getCapacidade(), noh.getObjetivo(),\n",
        "                                   noh.getListaOrdenada(), var_frac, noh.getVariaveisAtivadas())\n",
        "      nohDir = KnapsackProblemNode(True, noh.getModelo(), noh.getCapacidade(), noh.getObjetivo(),\n",
        "                                   noh.getListaOrdenada(), var_frac, noh.getVariaveisAtivadas())\n",
        "\n",
        "      nohEsq.setLimites()\n",
        "      nohDir.setLimites()\n",
        "\n",
        "      heapq.heappush(heap, nohEsq)\n",
        "      heapq.heappush(heap, nohDir)\n",
        "\n",
        "  def getNosExplorados(self):\n",
        "    return self.__nos_explorados\n",
        "\n"
      ]
    },
    {
      "cell_type": "markdown",
      "source": [
        "##Em seguida, criaremos a classe KnapsackProblemNode, que representa um subproblema do modelo.\n",
        "\n",
        "###Esta classe possui os métodos `relaxacao()` e `heuristica()`:\n",
        "* O método `relaxacao()` calcula o limite superior de cada subproblema ativando as variáveis de maior custo benefício e, caso reste capacidade, a próxima variável a ser escolhida é selecionada parcialmente de modo que a mochila seja preenchida totalmente.\n",
        "* O método `heuristica()` calcula o limite inferior de cada subproblema de forma semelhante ao anterior, mas não admite nenhuma variável fracionária. Caso reste capacidade sem ser possível escolher outro item inteiro, nenhum outro item é escolhido e a mochila não é preenchida totalmente."
      ],
      "metadata": {
        "id": "0KmnWn4TDyhx"
      }
    },
    {
      "cell_type": "code",
      "source": [
        "class  KnapsackProblemNode():\n",
        "\n",
        "  #atividade = true se a variavel fracionada é setada para 1 e false se setada para 0\n",
        "  #capacidade = capacidade restante da mochila apos forçar variaveis a ser 1\n",
        "  #objetivo = funcao objetivo apos forçar variaveis a ser 1\n",
        "  #lista_ordenada = lista ordenada de variaveis que nao foram setadas por custo beneficio (valor/peso)\n",
        "  #variavel = variavel fracionaria setada a ser 0 ou 1\n",
        "  #variaveis_ativadas = variaveis setadas a ser 1\n",
        "\n",
        "  def __init__ (self, ativada, modelo, capacidade, objetivo, lista_ordenada,\n",
        "                variavel = None, variaveis_ativadas = None):\n",
        "\n",
        "    if variaveis_ativadas is None:\n",
        "      self.__variaveis_ativadas = []\n",
        "    else:\n",
        "      self.__variaveis_ativadas = variaveis_ativadas\n",
        "\n",
        "    if variavel is not None:\n",
        "\n",
        "      if ativada:\n",
        "        objetivo += modelo[variavel]['Valor']\n",
        "        capacidade -= modelo[variavel]['Custo'] # se capacidade < 0, temos infactibilidade\n",
        "        self.__variaveis_ativadas.append(variavel)\n",
        "\n",
        "      del modelo[variavel]\n",
        "      del lista_ordenada[variavel]\n",
        "\n",
        "    self.__modelo = modelo\n",
        "    self.__capacidade = capacidade\n",
        "    self.__objetivo = objetivo\n",
        "    self.__lista_ordenada = lista_ordenada\n",
        "\n",
        "  def getVariaveisAtivadas(self):\n",
        "    return self.__variaveis_ativadas.copy()\n",
        "\n",
        "  def getModelo(self):\n",
        "    return self.__modelo.copy()\n",
        "\n",
        "  def getCapacidade(self):\n",
        "    return self.__capacidade\n",
        "\n",
        "  def getObjetivo(self):\n",
        "    return self.__objetivo\n",
        "\n",
        "  def getListaOrdenada(self):\n",
        "    return self.__lista_ordenada.copy()\n",
        "\n",
        "  def getVariaveis(self):\n",
        "    return self.__variaveis.copy()\n",
        "\n",
        "  def heuristica(self):\n",
        "    cp = self.__capacidade\n",
        "\n",
        "    self.__variaveis = self.__variaveis_ativadas.copy()\n",
        "\n",
        "    if cp < 0:\n",
        "      return False\n",
        "\n",
        "    obj = self.__objetivo\n",
        "\n",
        "    for variavel in self.__lista_ordenada:\n",
        "      if(cp == 0):\n",
        "        break\n",
        "      if self.__modelo[variavel]['Custo'] <= cp:\n",
        "        self.__variaveis.append(variavel)\n",
        "        obj += self.__modelo[variavel]['Valor']\n",
        "        cp -= self.__modelo[variavel]['Custo']\n",
        "\n",
        "    return obj\n",
        "\n",
        "  def relaxacao(self):\n",
        "    cp = self.__capacidade\n",
        "\n",
        "    if cp < 0:\n",
        "      return False, False\n",
        "\n",
        "    obj = self.__objetivo\n",
        "    variavel_frac = None\n",
        "\n",
        "    for variavel in self.__lista_ordenada:\n",
        "      if(cp == 0):\n",
        "        break\n",
        "      if self.__modelo[variavel]['Custo'] <= cp:\n",
        "        obj += self.__modelo[variavel]['Valor']\n",
        "        cp -= self.__modelo[variavel]['Custo']\n",
        "      else:\n",
        "        variavel_frac = variavel\n",
        "        obj += self.__modelo[variavel]['Valor'] * \\\n",
        "         (cp / self.__modelo[variavel]['Custo'])\n",
        "        cp = 0\n",
        "\n",
        "    return obj, variavel_frac\n",
        "\n",
        "  def setLimites(self):\n",
        "    self.__limite_superior, self.__variavel_frac = self.relaxacao()\n",
        "    self.__limite_inferior = self.heuristica()\n",
        "\n",
        "  def getLimiteSuperior(self):\n",
        "    return self.__limite_superior\n",
        "\n",
        "  def getLimiteInferior(self):\n",
        "    return self.__limite_inferior\n",
        "\n",
        "  def getVariavelFrac(self):\n",
        "    return self.__variavel_frac\n",
        "\n",
        "  def setGapOtimalidade(self):\n",
        "    self._gap = (self.__limite_superior - self.__limite_inferior) / \\\n",
        "    self.__limite_superior\n",
        "\n",
        "  def getGapOtimalidade(self):\n",
        "    return self._gap\n",
        "\n",
        "  def __eq__(self, other):\n",
        "    return self.getLimiteSuperior() == other.getLimiteSuperior()\n",
        "\n",
        "  def __lt__(self, other): # utilizado para comparação entre objetos desta classe, como no uso da heap\n",
        "    return self.getLimiteSuperior() > other.getLimiteSuperior()\n",
        "\n",
        "\n"
      ],
      "metadata": {
        "id": "tbI8M3QieLrT"
      },
      "execution_count": 2,
      "outputs": []
    },
    {
      "cell_type": "markdown",
      "source": [
        "#Mostrando os resultados:"
      ],
      "metadata": {
        "id": "TpNCaLrtDkTZ"
      }
    },
    {
      "cell_type": "code",
      "source": [
        "from time import time\n",
        "\n",
        "cap = 0\n",
        "pesos = []\n",
        "valores = []\n",
        "\n",
        "with open(\"Weakly001\", 'r') as file:\n",
        "    file.readline()\n",
        "    file.readline()\n",
        "\n",
        "    cap = int(file.readline().strip())\n",
        "\n",
        "    for line in file:\n",
        "        values = line.strip().split('\\t')\n",
        "        pesos.append(float(values[0]))\n",
        "        valores.append(float((values[1])))\n",
        "\n",
        "inicio = time()\n",
        "\n",
        "modelo = KnapsackModel(valores, pesos, cap)\n",
        "solucao = modelo.solve()\n",
        "\n",
        "fim = time()\n",
        "\n",
        "print(f\"Tempo de execução: {fim - inicio} segundos\")\n",
        "print(f\"Nós explorados: {modelo.getNosExplorados()}\")\n",
        "print(f\"Função objetivo: {solucao.getLimiteSuperior()}\")\n",
        "print(f\"Gap de otimalidade: {solucao.getGapOtimalidade()}\")\n",
        "vars = solucao.getVariaveis()\n",
        "vars = sorted(vars, key=lambda var: int(var[1:]))\n",
        "print(f\"Variáveis selecionadas: {vars}\")"
      ],
      "metadata": {
        "colab": {
          "base_uri": "https://localhost:8080/"
        },
        "id": "Zy0iw1kpdxQg",
        "outputId": "6269931a-0223-4303-a9b6-5625216d7477"
      },
      "execution_count": 3,
      "outputs": [
        {
          "output_type": "stream",
          "name": "stdout",
          "text": [
            "Tempo de execução: 0.34937071800231934 segundos\n",
            "Nós explorados: 1901\n",
            "Função objetivo: 4886.0\n",
            "Gap de otimalidade: 0.0\n",
            "Variáveis selecionadas: ['x1', 'x4', 'x10', 'x13', 'x14', 'x31', 'x79', 'x103', 'x111', 'x140', 'x182', 'x219', 'x294', 'x296', 'x317', 'x329', 'x332', 'x370', 'x396', 'x471', 'x473', 'x497', 'x505', 'x512', 'x556', 'x558', 'x574', 'x591', 'x619', 'x632', 'x675', 'x687', 'x690', 'x700', 'x745', 'x752', 'x789', 'x793', 'x838', 'x842', 'x887', 'x902', 'x923', 'x931', 'x937', 'x955', 'x968', 'x979', 'x989', 'x990', 'x994']\n"
          ]
        }
      ]
    }
  ]
}